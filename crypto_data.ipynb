{
 "cells": [
  {
   "cell_type": "code",
   "execution_count": 2,
   "metadata": {},
   "outputs": [
    {
     "name": "stdout",
     "output_type": "stream",
     "text": [
      "Using device: cuda\n"
     ]
    }
   ],
   "source": [
    "from tqdm.notebook import tqdm\n",
    "import os\n",
    "import pandas as pd\n",
    "import numpy as np\n",
    "import matplotlib.pyplot as plt\n",
    "import torch\n",
    "import torch.nn as nn\n",
    "import torch.optim as optim\n",
    "from torch.optim.lr_scheduler import StepLR\n",
    "from scipy.signal import correlate\n",
    "from statsmodels.graphics.tsaplots import plot_acf\n",
    "from torch.utils.data import TensorDataset, DataLoader, Dataset\n",
    "from sklearn.model_selection import train_test_split\n",
    "from sklearn.preprocessing import StandardScaler\n",
    "from nn_alpgotrading.data_processing import (\n",
    "    load_data, \n",
    "    good_tickers_chooser, \n",
    "    DataResampler, \n",
    "    pct_calculator, \n",
    "    columns_renamer, \n",
    "    get_training_columns, \n",
    "    prepare_data, \n",
    "    generate_windows\n",
    ")\n",
    "import warnings\n",
    "warnings.filterwarnings(\"ignore\")\n",
    "\n",
    "# Устройство для работы с нейронными сетями\n",
    "device = torch.device(\"cuda\" if torch.cuda.is_available() else \"cpu\")\n",
    "print(f'Using device: {device}')"
   ]
  },
  {
   "cell_type": "code",
   "execution_count": 4,
   "metadata": {},
   "outputs": [
    {
     "name": "stdout",
     "output_type": "stream",
     "text": [
      "Размер данных X: (7452, 100, 630)\n",
      "Размер данных Y: (7452, 63)\n"
     ]
    }
   ],
   "source": [
    "# Константы\n",
    "PATH = 'data/binance/fut/hour'\n",
    "RESAMPLE_INTERVAL = '4H'\n",
    "\n",
    "# Шаг 1: Загрузка данных\n",
    "close, open_, high, low, qvolume, bvolume, ntrades, takerbuybvolume, takerbuyqvolume = load_data(PATH)\n",
    "\n",
    "# Шаг 2: Выбор тикеров с малым количеством пропусков\n",
    "good_tickers = good_tickers_chooser(close)\n",
    "\n",
    "# Шаг 3: Ресемплинг данных\n",
    "close = DataResampler.resample_data(close, good_tickers, RESAMPLE_INTERVAL, 'last')\n",
    "open_ = DataResampler.resample_data(open_, good_tickers, RESAMPLE_INTERVAL, 'first')\n",
    "high = DataResampler.resample_data(high, good_tickers, RESAMPLE_INTERVAL, 'max')\n",
    "low = DataResampler.resample_data(low, good_tickers, RESAMPLE_INTERVAL, 'min')\n",
    "bvolume = DataResampler.resample_data(bvolume, good_tickers, RESAMPLE_INTERVAL, 'sum')\n",
    "qvolume = DataResampler.resample_data(qvolume, good_tickers, RESAMPLE_INTERVAL, 'sum')\n",
    "ntrades = DataResampler.resample_data(ntrades, good_tickers, RESAMPLE_INTERVAL, 'sum')\n",
    "takerbuybvolume = DataResampler.resample_data(takerbuybvolume, good_tickers, RESAMPLE_INTERVAL, 'sum')\n",
    "takerbuyqvolume = DataResampler.resample_data(takerbuyqvolume, good_tickers, RESAMPLE_INTERVAL, 'sum')\n",
    "\n",
    "# Шаг 4: Подготовка колонок\n",
    "returns = pct_calculator(close, is_returns=True)\n",
    "returns = columns_renamer(returns, \"ret\")\n",
    "\n",
    "close = columns_renamer(close, \"close\")\n",
    "open_ = columns_renamer(open_, \"open\")\n",
    "high = columns_renamer(high, \"high\")\n",
    "low = columns_renamer(low, \"low\")\n",
    "bvolume = columns_renamer(bvolume, \"bvolume\")\n",
    "qvolume = columns_renamer(qvolume, \"qvolume\")\n",
    "ntrades = columns_renamer(ntrades, \"ntrades\")\n",
    "takerbuybvolume = columns_renamer(takerbuybvolume, \"takerbuybvolume\")\n",
    "takerbuyqvolume = columns_renamer(takerbuyqvolume, \"takerbuyqvolume\")\n",
    "\n",
    "# Шаг 5: Формирование полного DataFrame\n",
    "full_data = prepare_data(\n",
    "    close, open_, high, low, bvolume, qvolume, ntrades, takerbuybvolume, takerbuyqvolume, returns\n",
    ")\n",
    "\n",
    "# Шаг 6: Выбор колонок для обучения\n",
    "close_col = close.columns.tolist()\n",
    "open_col = open_.columns.tolist()\n",
    "high_col = high.columns.tolist()\n",
    "low_col = low.columns.tolist()\n",
    "bvolume_col = bvolume.columns.tolist()\n",
    "qvolume_col = qvolume.columns.tolist()\n",
    "ntrades_col = ntrades.columns.tolist()\n",
    "takerbuybvolume_col = takerbuybvolume.columns.tolist()\n",
    "takerbuyqvolume_col = takerbuyqvolume.columns.tolist()\n",
    "\n",
    "train_columns = get_training_columns(\n",
    "    close_col, open_col, high_col, low_col, bvolume_col, qvolume_col, ntrades_col, takerbuybvolume_col, takerbuyqvolume_col\n",
    ")\n",
    "\n",
    "# Шаг 7: Подготовка данных для обучения\n",
    "training_data = full_data[train_columns]\n",
    "\n",
    "# Шаг 8: Генерация оконных выборок\n",
    "window_size = 100\n",
    "all_x, all_y = generate_windows(full_data, returns.columns.tolist(), window_size)\n",
    "\n",
    "print(f\"Размер данных X: {all_x.shape}\")\n",
    "print(f\"Размер данных Y: {all_y.shape}\")"
   ]
  },
  {
   "cell_type": "code",
   "execution_count": null,
   "metadata": {},
   "outputs": [],
   "source": []
  }
 ],
 "metadata": {
  "kernelspec": {
   "display_name": "Python 3",
   "language": "python",
   "name": "python3"
  },
  "language_info": {
   "codemirror_mode": {
    "name": "ipython",
    "version": 3
   },
   "file_extension": ".py",
   "mimetype": "text/x-python",
   "name": "python",
   "nbconvert_exporter": "python",
   "pygments_lexer": "ipython3",
   "version": "3.11.0"
  }
 },
 "nbformat": 4,
 "nbformat_minor": 4
}
